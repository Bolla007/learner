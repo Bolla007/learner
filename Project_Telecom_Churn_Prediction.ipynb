{
  "cells": [
    {
      "cell_type": "markdown",
      "metadata": {
        "id": "MByPQ2Apjaba"
      },
      "source": [
        "# Telecom Churn Prediction with Boosting\n",
        "\n",
        "Customer churn, also known as customer attrition, customer turnover, or customer defection, is the loss of clients or customers.Telephone service companies, Internet service providers, pay TV companies, insurance firms, and alarm monitoring services, often use customer attrition analysis and customer attrition rates as one of their key business metrics because the cost of retaining an existing customer is far less than acquiring a new one.\n",
        "\n",
        "Predictive analytics use churn prediction models that predict customer churn by assessing their propensity of risk to churn. Since these models generate a small prioritized list of potential defectors, they are effective at focusing customer retention marketing programs on the subset of the customer base who are most vulnerable to churn.\n",
        "\n",
        "For this project we will be exploring the dataset of a telecom company and try to predict the customer churn\n",
        "\n",
        "## Problem Statement\n",
        "\n",
        "Using the method of Boosting, classify whether or not the customer will churn\n",
        "\n",
        "## About the Dataset\n",
        "\n",
        "The snapshot of the dataset you will be working on\n",
        "\n",
        "![](https://github.com/commit-live-students/Data_Science_Masters_Program_2021/blob/main/16-ensemble_methods/gbm/images/dataset.png?raw=1)\n",
        "\n",
        "\n",
        "## Why solve this project ?\n",
        "\n",
        "After completing this project, you will have a better understanding of how to build a boosting model. In this project, you will apply the following concepts.\n",
        "\n",
        "\n",
        "- Handling missing values in data\n",
        "- Applying AdaBoost\n",
        "- Applying XGBoost\n",
        "- Interpreting evaluation metrics\n"
      ]
    },
    {
      "cell_type": "markdown",
      "metadata": {
        "id": "-b_zLkNvjabd"
      },
      "source": [
        "## Load data\n",
        "\n",
        "The first step - you know the drill by now - load the dataset and see how it looks like. Additionally, split it into train and test set.\n",
        "\n",
        "\n",
        "## Instructions:\n",
        "\n",
        "- Load the dataset from path using the `\"read_csv()\"` method from pandas and store it in a variable called `'df'`\n",
        "\n",
        "\n",
        "- Store all the features(All columns except `'customerID'`,`'churn'`) of `'df'` in  a variable called `X`\n",
        "\n",
        "\n",
        "- Store the target variable (`Churn`) of `'df'` in a variable called `y`\n",
        "\n",
        "\n",
        "- Split `'X'` and `'y'` into `X_train,X_test,y_train,y_test` using `train_test_split()` function. Use `test_size = 0.3` and `random_state = 0`"
      ]
    },
    {
      "cell_type": "markdown",
      "metadata": {
        "id": "5PHmhuibjabe"
      },
      "source": [
        "\n",
        "## Hints:\n",
        "\n",
        "- Use `X_train,X_test,y_train,y_test=train_test_split(X,y ,test_size=0.3,random_state=0)` to split the dataset.\n",
        "\n",
        "\n",
        "## Test cases:\n",
        "\n",
        "#df\n",
        "Variable declaration\n",
        "df.shape==(7043,21)\n",
        "df.iloc[10,10]=='No'\n",
        "\n",
        "#X_train\n",
        "Variable declaration\n",
        "X_train.iloc[10,10]=='Yes'\n",
        "\n",
        "#X_test\n",
        "Variable declaration\n",
        "X_test.iloc[10,10]=='No'\n",
        "\n",
        "#y_train\n",
        "Variable declaration\n",
        "y_train[10]=='No'\n",
        "\n",
        "#y_test\n",
        "Variable declaration\n",
        "y_test[1]=='No'"
      ]
    },
    {
      "cell_type": "code",
      "execution_count": null,
      "metadata": {
        "id": "JLKNSKemjabf"
      },
      "outputs": [],
      "source": [
        "#Pre Code\n",
        "import warnings\n",
        "warnings.filterwarnings('ignore')"
      ]
    },
    {
      "cell_type": "code",
      "execution_count": null,
      "metadata": {
        "id": "hCvIcXHrjabi",
        "colab": {
          "base_uri": "https://localhost:8080/",
          "height": 342
        },
        "outputId": "b5336a3b-f7bd-4705-d0e0-08e4ae131f28"
      },
      "outputs": [
        {
          "output_type": "execute_result",
          "data": {
            "text/plain": [
              "   customerID  gender  SeniorCitizen Partner Dependents  tenure PhoneService  \\\n",
              "0  7590-VHVEG  Female              0     Yes         No       1           No   \n",
              "1  5575-GNVDE    Male              0      No         No      34          Yes   \n",
              "2  3668-QPYBK    Male              0      No         No       2          Yes   \n",
              "3  7795-CFOCW    Male              0      No         No      45           No   \n",
              "4  9237-HQITU  Female              0      No         No       2          Yes   \n",
              "\n",
              "      MultipleLines InternetService OnlineSecurity  ... DeviceProtection  \\\n",
              "0  No phone service             DSL             No  ...               No   \n",
              "1                No             DSL            Yes  ...              Yes   \n",
              "2                No             DSL            Yes  ...               No   \n",
              "3  No phone service             DSL            Yes  ...              Yes   \n",
              "4                No     Fiber optic             No  ...               No   \n",
              "\n",
              "  TechSupport StreamingTV StreamingMovies        Contract PaperlessBilling  \\\n",
              "0          No          No              No  Month-to-month              Yes   \n",
              "1          No          No              No        One year               No   \n",
              "2          No          No              No  Month-to-month              Yes   \n",
              "3         Yes          No              No        One year               No   \n",
              "4          No          No              No  Month-to-month              Yes   \n",
              "\n",
              "               PaymentMethod MonthlyCharges  TotalCharges Churn  \n",
              "0           Electronic check          29.85         29.85    No  \n",
              "1               Mailed check          56.95        1889.5    No  \n",
              "2               Mailed check          53.85        108.15   Yes  \n",
              "3  Bank transfer (automatic)          42.30       1840.75    No  \n",
              "4           Electronic check          70.70        151.65   Yes  \n",
              "\n",
              "[5 rows x 21 columns]"
            ],
            "text/html": [
              "\n",
              "  <div id=\"df-fc3bb391-4c34-4313-b189-3859b3b26372\" class=\"colab-df-container\">\n",
              "    <div>\n",
              "<style scoped>\n",
              "    .dataframe tbody tr th:only-of-type {\n",
              "        vertical-align: middle;\n",
              "    }\n",
              "\n",
              "    .dataframe tbody tr th {\n",
              "        vertical-align: top;\n",
              "    }\n",
              "\n",
              "    .dataframe thead th {\n",
              "        text-align: right;\n",
              "    }\n",
              "</style>\n",
              "<table border=\"1\" class=\"dataframe\">\n",
              "  <thead>\n",
              "    <tr style=\"text-align: right;\">\n",
              "      <th></th>\n",
              "      <th>customerID</th>\n",
              "      <th>gender</th>\n",
              "      <th>SeniorCitizen</th>\n",
              "      <th>Partner</th>\n",
              "      <th>Dependents</th>\n",
              "      <th>tenure</th>\n",
              "      <th>PhoneService</th>\n",
              "      <th>MultipleLines</th>\n",
              "      <th>InternetService</th>\n",
              "      <th>OnlineSecurity</th>\n",
              "      <th>...</th>\n",
              "      <th>DeviceProtection</th>\n",
              "      <th>TechSupport</th>\n",
              "      <th>StreamingTV</th>\n",
              "      <th>StreamingMovies</th>\n",
              "      <th>Contract</th>\n",
              "      <th>PaperlessBilling</th>\n",
              "      <th>PaymentMethod</th>\n",
              "      <th>MonthlyCharges</th>\n",
              "      <th>TotalCharges</th>\n",
              "      <th>Churn</th>\n",
              "    </tr>\n",
              "  </thead>\n",
              "  <tbody>\n",
              "    <tr>\n",
              "      <th>0</th>\n",
              "      <td>7590-VHVEG</td>\n",
              "      <td>Female</td>\n",
              "      <td>0</td>\n",
              "      <td>Yes</td>\n",
              "      <td>No</td>\n",
              "      <td>1</td>\n",
              "      <td>No</td>\n",
              "      <td>No phone service</td>\n",
              "      <td>DSL</td>\n",
              "      <td>No</td>\n",
              "      <td>...</td>\n",
              "      <td>No</td>\n",
              "      <td>No</td>\n",
              "      <td>No</td>\n",
              "      <td>No</td>\n",
              "      <td>Month-to-month</td>\n",
              "      <td>Yes</td>\n",
              "      <td>Electronic check</td>\n",
              "      <td>29.85</td>\n",
              "      <td>29.85</td>\n",
              "      <td>No</td>\n",
              "    </tr>\n",
              "    <tr>\n",
              "      <th>1</th>\n",
              "      <td>5575-GNVDE</td>\n",
              "      <td>Male</td>\n",
              "      <td>0</td>\n",
              "      <td>No</td>\n",
              "      <td>No</td>\n",
              "      <td>34</td>\n",
              "      <td>Yes</td>\n",
              "      <td>No</td>\n",
              "      <td>DSL</td>\n",
              "      <td>Yes</td>\n",
              "      <td>...</td>\n",
              "      <td>Yes</td>\n",
              "      <td>No</td>\n",
              "      <td>No</td>\n",
              "      <td>No</td>\n",
              "      <td>One year</td>\n",
              "      <td>No</td>\n",
              "      <td>Mailed check</td>\n",
              "      <td>56.95</td>\n",
              "      <td>1889.5</td>\n",
              "      <td>No</td>\n",
              "    </tr>\n",
              "    <tr>\n",
              "      <th>2</th>\n",
              "      <td>3668-QPYBK</td>\n",
              "      <td>Male</td>\n",
              "      <td>0</td>\n",
              "      <td>No</td>\n",
              "      <td>No</td>\n",
              "      <td>2</td>\n",
              "      <td>Yes</td>\n",
              "      <td>No</td>\n",
              "      <td>DSL</td>\n",
              "      <td>Yes</td>\n",
              "      <td>...</td>\n",
              "      <td>No</td>\n",
              "      <td>No</td>\n",
              "      <td>No</td>\n",
              "      <td>No</td>\n",
              "      <td>Month-to-month</td>\n",
              "      <td>Yes</td>\n",
              "      <td>Mailed check</td>\n",
              "      <td>53.85</td>\n",
              "      <td>108.15</td>\n",
              "      <td>Yes</td>\n",
              "    </tr>\n",
              "    <tr>\n",
              "      <th>3</th>\n",
              "      <td>7795-CFOCW</td>\n",
              "      <td>Male</td>\n",
              "      <td>0</td>\n",
              "      <td>No</td>\n",
              "      <td>No</td>\n",
              "      <td>45</td>\n",
              "      <td>No</td>\n",
              "      <td>No phone service</td>\n",
              "      <td>DSL</td>\n",
              "      <td>Yes</td>\n",
              "      <td>...</td>\n",
              "      <td>Yes</td>\n",
              "      <td>Yes</td>\n",
              "      <td>No</td>\n",
              "      <td>No</td>\n",
              "      <td>One year</td>\n",
              "      <td>No</td>\n",
              "      <td>Bank transfer (automatic)</td>\n",
              "      <td>42.30</td>\n",
              "      <td>1840.75</td>\n",
              "      <td>No</td>\n",
              "    </tr>\n",
              "    <tr>\n",
              "      <th>4</th>\n",
              "      <td>9237-HQITU</td>\n",
              "      <td>Female</td>\n",
              "      <td>0</td>\n",
              "      <td>No</td>\n",
              "      <td>No</td>\n",
              "      <td>2</td>\n",
              "      <td>Yes</td>\n",
              "      <td>No</td>\n",
              "      <td>Fiber optic</td>\n",
              "      <td>No</td>\n",
              "      <td>...</td>\n",
              "      <td>No</td>\n",
              "      <td>No</td>\n",
              "      <td>No</td>\n",
              "      <td>No</td>\n",
              "      <td>Month-to-month</td>\n",
              "      <td>Yes</td>\n",
              "      <td>Electronic check</td>\n",
              "      <td>70.70</td>\n",
              "      <td>151.65</td>\n",
              "      <td>Yes</td>\n",
              "    </tr>\n",
              "  </tbody>\n",
              "</table>\n",
              "<p>5 rows × 21 columns</p>\n",
              "</div>\n",
              "    <div class=\"colab-df-buttons\">\n",
              "\n",
              "  <div class=\"colab-df-container\">\n",
              "    <button class=\"colab-df-convert\" onclick=\"convertToInteractive('df-fc3bb391-4c34-4313-b189-3859b3b26372')\"\n",
              "            title=\"Convert this dataframe to an interactive table.\"\n",
              "            style=\"display:none;\">\n",
              "\n",
              "  <svg xmlns=\"http://www.w3.org/2000/svg\" height=\"24px\" viewBox=\"0 -960 960 960\">\n",
              "    <path d=\"M120-120v-720h720v720H120Zm60-500h600v-160H180v160Zm220 220h160v-160H400v160Zm0 220h160v-160H400v160ZM180-400h160v-160H180v160Zm440 0h160v-160H620v160ZM180-180h160v-160H180v160Zm440 0h160v-160H620v160Z\"/>\n",
              "  </svg>\n",
              "    </button>\n",
              "\n",
              "  <style>\n",
              "    .colab-df-container {\n",
              "      display:flex;\n",
              "      gap: 12px;\n",
              "    }\n",
              "\n",
              "    .colab-df-convert {\n",
              "      background-color: #E8F0FE;\n",
              "      border: none;\n",
              "      border-radius: 50%;\n",
              "      cursor: pointer;\n",
              "      display: none;\n",
              "      fill: #1967D2;\n",
              "      height: 32px;\n",
              "      padding: 0 0 0 0;\n",
              "      width: 32px;\n",
              "    }\n",
              "\n",
              "    .colab-df-convert:hover {\n",
              "      background-color: #E2EBFA;\n",
              "      box-shadow: 0px 1px 2px rgba(60, 64, 67, 0.3), 0px 1px 3px 1px rgba(60, 64, 67, 0.15);\n",
              "      fill: #174EA6;\n",
              "    }\n",
              "\n",
              "    .colab-df-buttons div {\n",
              "      margin-bottom: 4px;\n",
              "    }\n",
              "\n",
              "    [theme=dark] .colab-df-convert {\n",
              "      background-color: #3B4455;\n",
              "      fill: #D2E3FC;\n",
              "    }\n",
              "\n",
              "    [theme=dark] .colab-df-convert:hover {\n",
              "      background-color: #434B5C;\n",
              "      box-shadow: 0px 1px 3px 1px rgba(0, 0, 0, 0.15);\n",
              "      filter: drop-shadow(0px 1px 2px rgba(0, 0, 0, 0.3));\n",
              "      fill: #FFFFFF;\n",
              "    }\n",
              "  </style>\n",
              "\n",
              "    <script>\n",
              "      const buttonEl =\n",
              "        document.querySelector('#df-fc3bb391-4c34-4313-b189-3859b3b26372 button.colab-df-convert');\n",
              "      buttonEl.style.display =\n",
              "        google.colab.kernel.accessAllowed ? 'block' : 'none';\n",
              "\n",
              "      async function convertToInteractive(key) {\n",
              "        const element = document.querySelector('#df-fc3bb391-4c34-4313-b189-3859b3b26372');\n",
              "        const dataTable =\n",
              "          await google.colab.kernel.invokeFunction('convertToInteractive',\n",
              "                                                    [key], {});\n",
              "        if (!dataTable) return;\n",
              "\n",
              "        const docLinkHtml = 'Like what you see? Visit the ' +\n",
              "          '<a target=\"_blank\" href=https://colab.research.google.com/notebooks/data_table.ipynb>data table notebook</a>'\n",
              "          + ' to learn more about interactive tables.';\n",
              "        element.innerHTML = '';\n",
              "        dataTable['output_type'] = 'display_data';\n",
              "        await google.colab.output.renderOutput(dataTable, element);\n",
              "        const docLink = document.createElement('div');\n",
              "        docLink.innerHTML = docLinkHtml;\n",
              "        element.appendChild(docLink);\n",
              "      }\n",
              "    </script>\n",
              "  </div>\n",
              "\n",
              "\n",
              "<div id=\"df-049f48c1-c22f-47ba-8615-f8d59d313316\">\n",
              "  <button class=\"colab-df-quickchart\" onclick=\"quickchart('df-049f48c1-c22f-47ba-8615-f8d59d313316')\"\n",
              "            title=\"Suggest charts.\"\n",
              "            style=\"display:none;\">\n",
              "\n",
              "<svg xmlns=\"http://www.w3.org/2000/svg\" height=\"24px\"viewBox=\"0 0 24 24\"\n",
              "     width=\"24px\">\n",
              "    <g>\n",
              "        <path d=\"M19 3H5c-1.1 0-2 .9-2 2v14c0 1.1.9 2 2 2h14c1.1 0 2-.9 2-2V5c0-1.1-.9-2-2-2zM9 17H7v-7h2v7zm4 0h-2V7h2v10zm4 0h-2v-4h2v4z\"/>\n",
              "    </g>\n",
              "</svg>\n",
              "  </button>\n",
              "\n",
              "<style>\n",
              "  .colab-df-quickchart {\n",
              "    background-color: #E8F0FE;\n",
              "    border: none;\n",
              "    border-radius: 50%;\n",
              "    cursor: pointer;\n",
              "    display: none;\n",
              "    fill: #1967D2;\n",
              "    height: 32px;\n",
              "    padding: 0 0 0 0;\n",
              "    width: 32px;\n",
              "  }\n",
              "\n",
              "  .colab-df-quickchart:hover {\n",
              "    background-color: #E2EBFA;\n",
              "    box-shadow: 0px 1px 2px rgba(60, 64, 67, 0.3), 0px 1px 3px 1px rgba(60, 64, 67, 0.15);\n",
              "    fill: #174EA6;\n",
              "  }\n",
              "\n",
              "  [theme=dark] .colab-df-quickchart {\n",
              "    background-color: #3B4455;\n",
              "    fill: #D2E3FC;\n",
              "  }\n",
              "\n",
              "  [theme=dark] .colab-df-quickchart:hover {\n",
              "    background-color: #434B5C;\n",
              "    box-shadow: 0px 1px 3px 1px rgba(0, 0, 0, 0.15);\n",
              "    filter: drop-shadow(0px 1px 2px rgba(0, 0, 0, 0.3));\n",
              "    fill: #FFFFFF;\n",
              "  }\n",
              "</style>\n",
              "\n",
              "  <script>\n",
              "    async function quickchart(key) {\n",
              "      const charts = await google.colab.kernel.invokeFunction(\n",
              "          'suggestCharts', [key], {});\n",
              "    }\n",
              "    (() => {\n",
              "      let quickchartButtonEl =\n",
              "        document.querySelector('#df-049f48c1-c22f-47ba-8615-f8d59d313316 button');\n",
              "      quickchartButtonEl.style.display =\n",
              "        google.colab.kernel.accessAllowed ? 'block' : 'none';\n",
              "    })();\n",
              "  </script>\n",
              "</div>\n",
              "    </div>\n",
              "  </div>\n"
            ]
          },
          "metadata": {},
          "execution_count": 15
        }
      ],
      "source": [
        "import pandas as pd\n",
        "from sklearn.model_selection import train_test_split\n",
        "path='https://raw.githubusercontent.com/commit-live-students/Data_Science_Masters_Program_2021/main/16-ensemble_methods/gbm/data/telecom_churn.csv'\n",
        "\n",
        "# Code starts here\n",
        "#Reading of file\n",
        "df = pd.read_csv(path)\n",
        "df.head()"
      ]
    },
    {
      "cell_type": "code",
      "source": [
        "df.info()"
      ],
      "metadata": {
        "colab": {
          "base_uri": "https://localhost:8080/"
        },
        "id": "CtNDhpCVoAKN",
        "outputId": "da6972a5-cc9f-4436-bb5c-5c9fd3594e11"
      },
      "execution_count": null,
      "outputs": [
        {
          "output_type": "stream",
          "name": "stdout",
          "text": [
            "<class 'pandas.core.frame.DataFrame'>\n",
            "RangeIndex: 7043 entries, 0 to 7042\n",
            "Data columns (total 21 columns):\n",
            " #   Column            Non-Null Count  Dtype  \n",
            "---  ------            --------------  -----  \n",
            " 0   customerID        7043 non-null   object \n",
            " 1   gender            7043 non-null   object \n",
            " 2   SeniorCitizen     7043 non-null   int64  \n",
            " 3   Partner           7043 non-null   object \n",
            " 4   Dependents        7043 non-null   object \n",
            " 5   tenure            7043 non-null   int64  \n",
            " 6   PhoneService      7043 non-null   object \n",
            " 7   MultipleLines     7043 non-null   object \n",
            " 8   InternetService   7043 non-null   object \n",
            " 9   OnlineSecurity    7043 non-null   object \n",
            " 10  OnlineBackup      7043 non-null   object \n",
            " 11  DeviceProtection  7043 non-null   object \n",
            " 12  TechSupport       7043 non-null   object \n",
            " 13  StreamingTV       7043 non-null   object \n",
            " 14  StreamingMovies   7043 non-null   object \n",
            " 15  Contract          7043 non-null   object \n",
            " 16  PaperlessBilling  7043 non-null   object \n",
            " 17  PaymentMethod     7043 non-null   object \n",
            " 18  MonthlyCharges    7043 non-null   float64\n",
            " 19  TotalCharges      7043 non-null   object \n",
            " 20  Churn             7043 non-null   object \n",
            "dtypes: float64(1), int64(2), object(18)\n",
            "memory usage: 1.1+ MB\n"
          ]
        }
      ]
    },
    {
      "cell_type": "code",
      "source": [
        "df.columns"
      ],
      "metadata": {
        "colab": {
          "base_uri": "https://localhost:8080/"
        },
        "id": "ez55hfPiou9R",
        "outputId": "913b3f66-a9a5-433c-81d2-07d6e1780678"
      },
      "execution_count": null,
      "outputs": [
        {
          "output_type": "execute_result",
          "data": {
            "text/plain": [
              "Index(['customerID', 'gender', 'SeniorCitizen', 'Partner', 'Dependents',\n",
              "       'tenure', 'PhoneService', 'MultipleLines', 'InternetService',\n",
              "       'OnlineSecurity', 'OnlineBackup', 'DeviceProtection', 'TechSupport',\n",
              "       'StreamingTV', 'StreamingMovies', 'Contract', 'PaperlessBilling',\n",
              "       'PaymentMethod', 'MonthlyCharges', 'TotalCharges', 'Churn'],\n",
              "      dtype='object')"
            ]
          },
          "metadata": {},
          "execution_count": 17
        }
      ]
    },
    {
      "cell_type": "code",
      "source": [
        "#Extracting features\n",
        "X=df.drop(['customerID','Churn'],1)\n",
        "\n",
        "#Extracting target class\n",
        "y=df['Churn']\n",
        "\n",
        "#Splitting data into train and test\n",
        "X_train,X_test,y_train,y_test=train_test_split(X,y,test_size = 0.3,random_state=0)"
      ],
      "metadata": {
        "id": "oHXqYZwcnsIG"
      },
      "execution_count": null,
      "outputs": []
    },
    {
      "cell_type": "code",
      "source": [
        "X_train.shape"
      ],
      "metadata": {
        "colab": {
          "base_uri": "https://localhost:8080/"
        },
        "id": "mFPOCws0pS3l",
        "outputId": "adb1e65c-4496-407b-b1eb-b20d975d9cb2"
      },
      "execution_count": null,
      "outputs": [
        {
          "output_type": "execute_result",
          "data": {
            "text/plain": [
              "(4930, 19)"
            ]
          },
          "metadata": {},
          "execution_count": 19
        }
      ]
    },
    {
      "cell_type": "code",
      "source": [
        "X_test.shape"
      ],
      "metadata": {
        "colab": {
          "base_uri": "https://localhost:8080/"
        },
        "id": "sxLSl5NIpjlz",
        "outputId": "44d9181f-df29-4c31-a00e-4b3e6ce9050d"
      },
      "execution_count": null,
      "outputs": [
        {
          "output_type": "execute_result",
          "data": {
            "text/plain": [
              "(2113, 19)"
            ]
          },
          "metadata": {},
          "execution_count": 20
        }
      ]
    },
    {
      "cell_type": "code",
      "source": [
        "y_train"
      ],
      "metadata": {
        "colab": {
          "base_uri": "https://localhost:8080/"
        },
        "id": "8lywJJ0bpq6m",
        "outputId": "619a0485-b5c0-42c5-fbd3-7b92335c2ab1"
      },
      "execution_count": null,
      "outputs": [
        {
          "output_type": "execute_result",
          "data": {
            "text/plain": [
              "3580    Yes\n",
              "2364     No\n",
              "6813    Yes\n",
              "789      No\n",
              "561      No\n",
              "       ... \n",
              "4931     No\n",
              "3264     No\n",
              "1653     No\n",
              "2607    Yes\n",
              "2732     No\n",
              "Name: Churn, Length: 4930, dtype: object"
            ]
          },
          "metadata": {},
          "execution_count": 21
        }
      ]
    },
    {
      "cell_type": "markdown",
      "metadata": {
        "id": "8sv12JTpjabi"
      },
      "source": [
        "## Success Message\n",
        "\n",
        "Congrats! You have successfully loaded the dataset and split it into `train` and `test` set."
      ]
    },
    {
      "cell_type": "markdown",
      "metadata": {
        "id": "ob3lItWqjabj"
      },
      "source": [
        "# Clean data\n",
        "\n",
        "In this task, we will try to replace the missing values and modify some column values.\n",
        "\n",
        "## Instructions\n",
        "\n",
        "- Replace the spaces(' ') in `TotalCharges` column of `'X_train'` with `np.NaN` and assign it back to the same column. Do the same for `'X_test'`\n",
        "\n",
        "- Change the  `TotalCharges` column of `'X_train'`to `float` data type. Do the same for `'X_test'`\n",
        "\n",
        "- Fill the missing values(NaN) of `TotalCharges` column of `'X_train'` with its mean using `\"fillna()\"` assign it back to the same column. Do the same for `'X_test'`\n",
        "\n",
        "- Check whether any other NaN value exists in train data using `\"isnull().sum()\"`\n",
        "\n",
        "- Label encode all categorical columns of `'X_train'` using `\"LabelEncoder()\"`. Do the same for `'X_test'`\n",
        "\n",
        "- Using `\"replace()\"` function, replace the values of `'y_train'` in the following way :`{'No':0, 'Yes':1}`(i.e. Replace No with 0 and Yes with 1). Do the same with `y_test`."
      ]
    },
    {
      "cell_type": "markdown",
      "metadata": {
        "id": "LmCFIYc4jabj"
      },
      "source": [
        "## Hints\n",
        "\n",
        "- Use `\"X_train.isnull().sum()\"` to find how many null values exists in X_train\n",
        "\n",
        "- You can label encode all categorical columns of `X_train` by writing code similar to\n",
        "\n",
        "```python\n",
        "cat_cols = X_train.select_dtypes(include='O').columns.tolist()\n",
        "\n",
        "#Label encoding train data\n",
        "for x in cat_cols:\n",
        "    le = LabelEncoder()\n",
        "    X_train[x] = le.fit_transform(X_train[x])\n",
        "\n",
        "\n",
        "```\n",
        "\n",
        "## Test cases\n",
        "\n",
        "np.round(X_train.loc[28,'TotalCharges'],2)==np.round(6369.45,2)\n",
        "\n",
        "np.round(X_test.loc[1,'TotalCharges'],2)==np.round(1889.5,2)\n",
        "\n",
        "np.all(X_train.isnull().sum()[:]==0)\n",
        "\n",
        "np.all(X_test.isnull().sum()[:]==0)\n",
        "\n",
        "\n",
        "X_train.iloc[10,10]==2\n",
        "\n",
        "\n",
        "X_test.iloc[10,10]==0\n",
        "\n",
        "\n",
        "y_train[10]==0\n",
        "\n",
        "y_test[1]==0"
      ]
    },
    {
      "cell_type": "code",
      "source": [
        "df['TotalCharges']"
      ],
      "metadata": {
        "colab": {
          "base_uri": "https://localhost:8080/"
        },
        "id": "uE-uSeY5quE_",
        "outputId": "449587ec-6e52-4214-e2cb-9b546467c76f"
      },
      "execution_count": null,
      "outputs": [
        {
          "output_type": "execute_result",
          "data": {
            "text/plain": [
              "0         29.85\n",
              "1        1889.5\n",
              "2        108.15\n",
              "3       1840.75\n",
              "4        151.65\n",
              "         ...   \n",
              "7038     1990.5\n",
              "7039     7362.9\n",
              "7040     346.45\n",
              "7041      306.6\n",
              "7042     6844.5\n",
              "Name: TotalCharges, Length: 7043, dtype: object"
            ]
          },
          "metadata": {},
          "execution_count": 22
        }
      ]
    },
    {
      "cell_type": "code",
      "execution_count": null,
      "metadata": {
        "id": "fYwxYgdFjabk"
      },
      "outputs": [],
      "source": [
        "import numpy as np\n",
        "from sklearn.preprocessing import LabelEncoder\n",
        "import numpy as np\n",
        "\n",
        "# Code starts here\n",
        "#Replacing spaces with 'NaN' in train dataset\n",
        "X_train['TotalCharges'].replace(' ',np.NaN,inplace=True)\n",
        "\n",
        "#Replacing spaces with 'NaN' in test dataset\n",
        "X_test['TotalCharges'].replace(' ',np.NaN,inplace=True)\n",
        "\n",
        "#Converting the type of column from X_train to float\n",
        "X_train['TotalCharges']=X_train['TotalCharges'].astype(float)\n",
        "\n",
        "#Converting the type of column from X_test to float\n",
        "X_test['TotalCharges']=X_test['TotalCharges'].astype(float)\n",
        "\n",
        "#Filling missing values\n",
        "X_train['TotalCharges'].fillna(X_train['TotalCharges'].mean(),inplace=True)\n",
        "X_test['TotalCharges'].fillna(X_test['TotalCharges'].mean(),inplace=True)\n"
      ]
    },
    {
      "cell_type": "code",
      "source": [
        "X_train['TotalCharges'].isna().sum()"
      ],
      "metadata": {
        "colab": {
          "base_uri": "https://localhost:8080/"
        },
        "id": "SwErB5p8ty87",
        "outputId": "3447b2c7-571f-4530-992f-3b07b7cea8c7"
      },
      "execution_count": null,
      "outputs": [
        {
          "output_type": "execute_result",
          "data": {
            "text/plain": [
              "0"
            ]
          },
          "metadata": {},
          "execution_count": 25
        }
      ]
    },
    {
      "cell_type": "code",
      "source": [
        "X_test['TotalCharges'].isna().sum()"
      ],
      "metadata": {
        "colab": {
          "base_uri": "https://localhost:8080/"
        },
        "id": "W0--BMxht6_K",
        "outputId": "e8c70ed6-ea07-4011-bfe7-625562ef9093"
      },
      "execution_count": null,
      "outputs": [
        {
          "output_type": "execute_result",
          "data": {
            "text/plain": [
              "0"
            ]
          },
          "metadata": {},
          "execution_count": 26
        }
      ]
    },
    {
      "cell_type": "code",
      "source": [
        "#Check value counts\n",
        "cat_cols = X_train.select_dtypes(include='O').columns.tolist()\n",
        "cat_cols"
      ],
      "metadata": {
        "colab": {
          "base_uri": "https://localhost:8080/"
        },
        "id": "CD9aArIetueJ",
        "outputId": "1cf59f14-db1e-4f18-a414-7ad01376d32d"
      },
      "execution_count": null,
      "outputs": [
        {
          "output_type": "execute_result",
          "data": {
            "text/plain": [
              "['gender',\n",
              " 'Partner',\n",
              " 'Dependents',\n",
              " 'PhoneService',\n",
              " 'MultipleLines',\n",
              " 'InternetService',\n",
              " 'OnlineSecurity',\n",
              " 'OnlineBackup',\n",
              " 'DeviceProtection',\n",
              " 'TechSupport',\n",
              " 'StreamingTV',\n",
              " 'StreamingMovies',\n",
              " 'Contract',\n",
              " 'PaperlessBilling',\n",
              " 'PaymentMethod']"
            ]
          },
          "metadata": {},
          "execution_count": 27
        }
      ]
    },
    {
      "cell_type": "code",
      "source": [
        "y_train"
      ],
      "metadata": {
        "colab": {
          "base_uri": "https://localhost:8080/"
        },
        "id": "X2HzGcyvvh2_",
        "outputId": "95bb76b8-9868-4adf-9a6d-55c6671ebd29"
      },
      "execution_count": null,
      "outputs": [
        {
          "output_type": "execute_result",
          "data": {
            "text/plain": [
              "3580    Yes\n",
              "2364     No\n",
              "6813    Yes\n",
              "789      No\n",
              "561      No\n",
              "       ... \n",
              "4931     No\n",
              "3264     No\n",
              "1653     No\n",
              "2607    Yes\n",
              "2732     No\n",
              "Name: Churn, Length: 4930, dtype: object"
            ]
          },
          "metadata": {},
          "execution_count": 29
        }
      ]
    },
    {
      "cell_type": "code",
      "source": [
        "# Label encoding train data\n",
        "for x in cat_cols:\n",
        "    le = LabelEncoder()\n",
        "    X_train[x] = le.fit_transform(X_train[x])\n",
        "\n",
        "#Label encoding test data\n",
        "for x in cat_cols:\n",
        "    le = LabelEncoder()\n",
        "    X_test[x] = le.fit_transform(X_test[x])\n",
        "\n",
        "#Encoding train data target\n",
        "y_train=y_train.replace({'No':0,'Yes':1})\n",
        "\n",
        "#Encoding test data target\n",
        "y_test=y_test.replace({'No':0,'Yes':1})"
      ],
      "metadata": {
        "id": "IWvfWCPnuqo6"
      },
      "execution_count": null,
      "outputs": []
    },
    {
      "cell_type": "code",
      "source": [
        "y_test"
      ],
      "metadata": {
        "colab": {
          "base_uri": "https://localhost:8080/"
        },
        "id": "wG1jli3Jvw2z",
        "outputId": "f5e4ac65-bda4-4195-a468-8926edd76e47"
      },
      "execution_count": null,
      "outputs": [
        {
          "output_type": "execute_result",
          "data": {
            "text/plain": [
              "2200    0\n",
              "4627    0\n",
              "3225    0\n",
              "2828    0\n",
              "3768    0\n",
              "       ..\n",
              "4448    1\n",
              "1231    0\n",
              "3304    0\n",
              "4805    0\n",
              "5843    0\n",
              "Name: Churn, Length: 2113, dtype: int64"
            ]
          },
          "metadata": {},
          "execution_count": 34
        }
      ]
    },
    {
      "cell_type": "markdown",
      "metadata": {
        "id": "VP2_9Wkrjabm"
      },
      "source": [
        "## Success Message\n",
        "\n",
        "Congrats !You have successfully filled missing values and cleaned the data."
      ]
    },
    {
      "cell_type": "markdown",
      "metadata": {
        "id": "vs6LggnQjabm"
      },
      "source": [
        "# AdaBoost Implementation\n",
        "\n",
        "X_train, X_test have been label encoded.\n",
        "\n",
        "y_train and y_test have been encoded with the following dictionary {'No':0, 'Yes':1}\n",
        "\n",
        "In this task, we will try to predict the churning of customers using AdaBoost\n",
        "\n",
        "## Instructions\n",
        "- Print values of X_train, X_test, y_value, y_test to take a look at their transformed versions\n",
        "\n",
        "\n",
        "- Initialise a AdaBoost model with `AdaBoostClassifier()` having `random_state=0` and save it to a variable called `'ada_model'`.\n",
        "\n",
        "\n",
        "- Fit the model on the training data `'X_train'` and `'y_train'` using the `'fit()'` method.\n",
        "\n",
        "\n",
        "- Store the prediction of `'X_test'` by `'ada_model'` in a variable called `'y_pred'`\n",
        "\n",
        "- Find out the accuracy score between `y_test` and `'y_test'` using `\"accuracy_score()\"` and save it in a variable called `'ada_score'`\n",
        "\n",
        "- Since it's a slightly imbalanced dataset, find out the `confusion matrix` between `'y_test'` and `'y_pred'` using `\"confusion_matrix()\"` and save it in a variable called `'ada_cm'`\n",
        "\n",
        "\n",
        "- Also find out the `classification_report` between `'y_test'` and `'y_pred'` using `\"classification_report()\"` and save it in a variable called `'ada_cr'`\n",
        "\n",
        "\n"
      ]
    },
    {
      "cell_type": "markdown",
      "metadata": {
        "id": "GozUbwCdjabn"
      },
      "source": [
        "## Hints\n",
        "\n",
        "* Use `accuracy_score(y_test,y_pred)` to check the prediction accuracy of the model.\n",
        "\n",
        "* Use `confusion_matrix(y_test,y_pred)` to check the confusion matrix of the model.\n",
        "\n",
        "* Use `classification_report(y_test,y_pred)` to check the classification report of the model.\n",
        "\n",
        "## Test cases\n",
        "\n",
        "#ada_score\n",
        "Variable declaration\n",
        "np.round(ada_score,2) == np.round(0.795551348793185,2)"
      ]
    },
    {
      "cell_type": "code",
      "execution_count": null,
      "metadata": {
        "id": "H5DBL77Ijabn",
        "outputId": "74b744f9-5b9b-4605-960b-010a5abb2860",
        "colab": {
          "base_uri": "https://localhost:8080/"
        }
      },
      "outputs": [
        {
          "output_type": "stream",
          "name": "stdout",
          "text": [
            "ada_score:- 0.795551348793185\n",
            "confusion_matrix [[1371  189]\n",
            " [ 243  310]]\n",
            "classification_report               precision    recall  f1-score   support\n",
            "\n",
            "           0       0.85      0.88      0.86      1560\n",
            "           1       0.62      0.56      0.59       553\n",
            "\n",
            "    accuracy                           0.80      2113\n",
            "   macro avg       0.74      0.72      0.73      2113\n",
            "weighted avg       0.79      0.80      0.79      2113\n",
            "\n"
          ]
        }
      ],
      "source": [
        "from sklearn.ensemble import AdaBoostClassifier\n",
        "from sklearn.metrics import accuracy_score,classification_report,confusion_matrix\n",
        "\n",
        "# Code starts here\n",
        "# Initialising AdaBoostClassifier model\n",
        "ada_model=AdaBoostClassifier(random_state=0)\n",
        "\n",
        "#Fitting the model on train data\n",
        "ada_model.fit(X_train,y_train)\n",
        "\n",
        "#Making prediction on test data\n",
        "y_pred=ada_model.predict(X_test)\n",
        "\n",
        "#Finding the accuracy score\n",
        "ada_score=accuracy_score(y_test,y_pred)\n",
        "print(\"ada_score:-\",ada_score)\n",
        "\n",
        "#Finding the confusion matrix\n",
        "ada_cm=confusion_matrix(y_test,y_pred)\n",
        "print(\"confusion_matrix\",ada_cm)\n",
        "\n",
        "#Finding the classification report\n",
        "ada_cr=classification_report(y_test,y_pred)\n",
        "print(\"classification_report\",ada_cr)"
      ]
    },
    {
      "cell_type": "code",
      "source": [],
      "metadata": {
        "colab": {
          "base_uri": "https://localhost:8080/"
        },
        "id": "ZMcy8cA44MWA",
        "outputId": "c6cd12ba-be6f-4ce0-94ee-4c71f2650dad"
      },
      "execution_count": null,
      "outputs": [
        {
          "output_type": "execute_result",
          "data": {
            "text/plain": [
              "(2113,)"
            ]
          },
          "metadata": {},
          "execution_count": 37
        }
      ]
    },
    {
      "cell_type": "markdown",
      "metadata": {
        "id": "GwuxQnM6jabo"
      },
      "source": [
        "## Success Message\n",
        "\n",
        "Congrats! You have successfully applied AdaBoost model to make Churn predictions"
      ]
    },
    {
      "cell_type": "markdown",
      "metadata": {
        "id": "xLNvR0H9jabo"
      },
      "source": [
        "# XGBoost Implementation\n",
        "\n",
        "Let's also try and implement XGBoost for our customer churn problem and see how it performs in comparision to AdaBoost\n",
        "\n",
        "## Instructions\n",
        "\n",
        "- Initialise a XGBoost Classifier model with `XGBClassifier()` having `random_state=0` and save it to a variable called `'xgb_model'`.\n",
        "\n",
        "\n",
        "- Fit the model on the training data `'X_train'` and `'y_train'` using the `'fit()'` method.\n",
        "\n",
        "\n",
        "- Store the prediction of `'X_test'` by `'xgb_model'` in a variable called `'y_pred'`\n",
        "\n",
        "- Find out the accuracy score between `y_test` and `'y_test'` using `\"accuracy_score()\"` and save it in a variable called `'xgb_score'`\n",
        "\n",
        "- Since it's a slightly imbalanced dataset, find out the `confusion matrix` between `'y_test'` and `'y_pred'` using `\"confusion_matrix()\"` and save it in a variable called `'xgb_cm'`\n",
        "\n",
        "\n",
        "- Also find out the `classification_report` between `'y_test'` and `'y_pred'` using `\"classification_report()\"` and save it in a variable called `'xgb_cr'`\n",
        "\n",
        "# Observation\n",
        "\n",
        "The score of XGBoost is just 0.001 better than the AdaBoost score.\n",
        "\n",
        "Let's try to see if we can make it perform better\n",
        "\n",
        "## Instructions\n",
        "\n",
        "- Initialise a grid search object with `GridSearch()` having `estimator=xgb_clf` & `param_grid=parameter` and save it to a variable called `'clf_model'`.\n",
        "\n",
        "\n",
        "- Fit the model on the training data `'X_train'` and `'y_train'` using the `'fit()'` method.\n",
        "\n",
        "\n",
        "- Store the prediction of `'X_test'` by `'clf_model'` in a variable called `'y_pred'`\n",
        "\n",
        "- Find out the accuracy score between `y_test` and `'y_test'` using `\"accuracy_score()\"` and save it in a variable called `'clf_score'`\n",
        "\n",
        "- Find out the `confusion matrix` between `'y_test'` and `'y_pred'` using `\"confusion_matrix()\"` and save it in a variable called `'clf_cm'`.\n",
        "\n",
        "\n",
        "- Also find out the `classification_report` between `'y_test'` and `'y_pred'` using `\"classification_report()\"` and save it in a variable called `'clf_cr'`.\n",
        "\n",
        "- Print and compare the accuracy score, confusion matrix, classification report between `'xgb_model'` and `'clf_model'`.\n"
      ]
    },
    {
      "cell_type": "markdown",
      "metadata": {
        "id": "LqfLN-3tjabo"
      },
      "source": [
        "## Hints\n",
        "\n",
        "- Use `accuracy_score(y_test,y_pred)` to check the prediction accuracy of the model.\n",
        "\n",
        "- Use `confusion_matrix(y_test,y_pred)` to check the confusion matrix of the model.\n",
        "\n",
        "- Use `classification_report(y_test,y_pred)` to check the classification report of the model.\n",
        "\n",
        "\n",
        "\n",
        "## Test Case\n",
        "\n",
        "#xgb_score\n",
        "Variable declaration\n",
        "np.round(xgb_score,2) == np.round(0.79649787032655,2)\n",
        "\n",
        "#clf_score\n",
        "Variable declaration\n",
        "np.round(clf_score,2)== np.round(0.8017037387600567,2)\n"
      ]
    },
    {
      "cell_type": "code",
      "execution_count": null,
      "metadata": {
        "id": "EYnT9dLGjabp",
        "outputId": "88d43fe4-0edb-47cc-d924-2121d6b19ecb",
        "colab": {
          "base_uri": "https://localhost:8080/"
        }
      },
      "outputs": [
        {
          "output_type": "stream",
          "name": "stdout",
          "text": [
            "accuracy_score 0.7908187411263606\n",
            "confusion_matrix [[1376  184]\n",
            " [ 258  295]]\n",
            "classification_report               precision    recall  f1-score   support\n",
            "\n",
            "           0       0.84      0.88      0.86      1560\n",
            "           1       0.62      0.53      0.57       553\n",
            "\n",
            "    accuracy                           0.79      2113\n",
            "   macro avg       0.73      0.71      0.72      2113\n",
            "weighted avg       0.78      0.79      0.79      2113\n",
            "\n",
            "accuracy_score_with_GS 0.8021769995267393\n",
            "confusion_matrix_with_GS [[1398  162]\n",
            " [ 256  297]]\n",
            "classification_report_with_GS               precision    recall  f1-score   support\n",
            "\n",
            "           0       0.85      0.90      0.87      1560\n",
            "           1       0.65      0.54      0.59       553\n",
            "\n",
            "    accuracy                           0.80      2113\n",
            "   macro avg       0.75      0.72      0.73      2113\n",
            "weighted avg       0.79      0.80      0.80      2113\n",
            "\n"
          ]
        }
      ],
      "source": [
        "from xgboost import XGBClassifier\n",
        "from sklearn.ensemble import GradientBoostingClassifier\n",
        "from sklearn.model_selection import GridSearchCV\n",
        "\n",
        "#Parameter list\n",
        "parameters={'learning_rate':[0.1,0.15,0.2,0.25,0.3],\n",
        "            'max_depth':range(1,3)}\n",
        "\n",
        "# Code starts here\n",
        "#Initializing the model\n",
        "xgb_model=XGBClassifier(random_state=0)\n",
        "\n",
        "#Fitting the model on train data\n",
        "xgb_model.fit(X_train,y_train)\n",
        "\n",
        "#Making prediction on test data\n",
        "y_pred=xgb_model.predict(X_test)\n",
        "\n",
        "#Finding the accuracy score\n",
        "xgb_score=accuracy_score(y_test,y_pred)\n",
        "print(\"accuracy_score\",xgb_score)\n",
        "\n",
        "#Finding the confusion matrix\n",
        "xgb_cm=confusion_matrix(y_test,y_pred)\n",
        "print(\"confusion_matrix\",xgb_cm)\n",
        "\n",
        "#Finding the classification report\n",
        "xgb_cr=classification_report(y_test,y_pred)\n",
        "print(\"classification_report\",xgb_cr)\n",
        "\n",
        "### GridSearch CV\n",
        "\n",
        "#Initialsing Grid Search\n",
        "clf=GridSearchCV(xgb_model,parameters)\n",
        "\n",
        "#Fitting the model on train data\n",
        "clf.fit(X_train,y_train)\n",
        "\n",
        "#Making prediction on test data\n",
        "y_pred=clf.predict(X_test)\n",
        "\n",
        "#Finding the accuracy score\n",
        "clf_score=accuracy_score(y_test,y_pred)\n",
        "print(\"accuracy_score_with_GS\",clf_score)\n",
        "\n",
        "#Finding the confusion matrix\n",
        "clf_cm=confusion_matrix(y_test,y_pred)\n",
        "print(\"confusion_matrix_with_GS\",clf_cm)\n",
        "\n",
        "#Finding the classification report\n",
        "clf_cr=classification_report(y_test,y_pred)\n",
        "print(\"classification_report_with_GS\",clf_cr)\n",
        "\n",
        "#Code ends here"
      ]
    },
    {
      "cell_type": "markdown",
      "metadata": {
        "id": "87au_9h5jabq"
      },
      "source": [
        "## Success Message\n",
        "\n",
        "Congrats! You have successfully applied XGBoost and predicted Churn."
      ]
    }
  ],
  "metadata": {
    "kernelspec": {
      "display_name": "Python 3",
      "language": "python",
      "name": "python3"
    },
    "language_info": {
      "codemirror_mode": {
        "name": "ipython",
        "version": 3
      },
      "file_extension": ".py",
      "mimetype": "text/x-python",
      "name": "python",
      "nbconvert_exporter": "python",
      "pygments_lexer": "ipython3",
      "version": "3.6.6"
    },
    "colab": {
      "provenance": []
    }
  },
  "nbformat": 4,
  "nbformat_minor": 0
}